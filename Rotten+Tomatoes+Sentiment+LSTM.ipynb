{
 "cells": [
  {
   "cell_type": "markdown",
   "metadata": {},
   "source": [
    "Experiment with sentiment network prototyping in keras. Use Rotten Tomatoes dataset from https://www.kaggle.com/c/sentiment-analysis-on-movie-reviews"
   ]
  },
  {
   "cell_type": "code",
   "execution_count": 1,
   "metadata": {
    "collapsed": false
   },
   "outputs": [
    {
     "name": "stderr",
     "output_type": "stream",
     "text": [
      "Using TensorFlow backend.\n"
     ]
    }
   ],
   "source": [
    "# import libraries\n",
    "\n",
    "import numpy as np\n",
    "\n",
    "from keras.preprocessing import sequence\n",
    "from keras.models import Sequential\n",
    "from keras.layers import Embedding, Dense, LSTM, Dropout, Activation, BatchNormalization\n",
    "from keras.optimizers import Adam\n",
    "from keras.utils import np_utils\n"
   ]
  },
  {
   "cell_type": "code",
   "execution_count": 2,
   "metadata": {
    "collapsed": false
   },
   "outputs": [
    {
     "name": "stdout",
     "output_type": "stream",
     "text": [
      "['1', '1', 'A series of escapades demonstrating the adage that what is good for the goose is also good for the gander , some of which occasionally amuses but none of which amounts to much of a story .', '1']\n"
     ]
    }
   ],
   "source": [
    "import csv\n",
    "import re\n",
    "\n",
    "from nltk.corpus import stopwords\n",
    "\n",
    "row_num = 0\n",
    "training_data = []\n",
    "\n",
    "stop_words = set(stopwords.words('english'))\n",
    "\n",
    "# import training data\n",
    "with open('./data/train.tsv', 'r') as train_data:\n",
    "    for line in csv.reader(train_data, delimiter='\\t'):\n",
    "        if row_num > 0:\n",
    "            training_data.append(line)\n",
    "\n",
    "        row_num += 1\n",
    "\n",
    "train_data.close()\n",
    "\n",
    "print(training_data[0])"
   ]
  },
  {
   "cell_type": "code",
   "execution_count": 246,
   "metadata": {
    "collapsed": false
   },
   "outputs": [],
   "source": [
    "np.random.shuffle(training_data)\n",
    "\n",
    "x_train_pre_enc = []\n",
    "y_train = []\n",
    "maxlen = 0\n",
    "vocab = []\n",
    "\n",
    "other_text_to_remove = ['rrb', 'lrb']\n",
    "\n",
    "# pre-process training data\n",
    "# remove punctuation, all lower case, remove very short phrases\n",
    "for line in training_data:\n",
    "    sentence = re.sub(r'[^a-zA-Z\\s]','', line[2])\n",
    "    words = sentence.lower().split(' ')\n",
    "    words2 = [word for word in words if ((word not in stop_words) and (word not in other_text_to_remove) and (len(word) > 2))]\n",
    "    \n",
    "    if((len(words2) > 2) and (words2 not in x_train_pre_enc)):\n",
    "        x_train_pre_enc.append(words2)\n",
    "        y_train.append(line[3])\n",
    "\n",
    "        if len(words2) > maxlen:\n",
    "            maxlen = len(words2)\n",
    "        \n",
    "        # add to vocab\n",
    "        for word in words2:\n",
    "            word = word.strip()\n",
    "            if word not in vocab:\n",
    "                vocab.append(word)\n",
    "        "
   ]
  },
  {
   "cell_type": "code",
   "execution_count": 247,
   "metadata": {
    "collapsed": false
   },
   "outputs": [
    {
     "name": "stdout",
     "output_type": "stream",
     "text": [
      "[['cruel', 'misanthropic', 'stuff'], ['boldly', 'quirky', 'iranian', 'drama', 'secret', 'ballot'], ['one', 'black', 'one', 'white'], ['become', 'household', 'name', 'basis', 'first', 'starring', 'vehicle'], ['mall', 'movie', 'designed', 'kill', 'time'], ['watching', 'harris', 'ham', 'physically', 'emotionally', 'disintegrating', 'course', 'movie', 'certain', 'poignancy', 'light', 'recent', 'death', 'boyd', 'film', 'offers', 'little', 'else', 'consequence'], ['know', 'icet', 'coolj', 'realize', 'far', 'shootings', 'concerned', 'something', 'rotten', 'state', 'california'], ['strictly', 'speaking', 'schneider', 'steve', 'martin'], ['twisted', 'sense', 'humor'], ['movie', 'refreshes', 'mind', 'spirit', 'along', 'body'], ['commerce', 'tourism', 'historical', 'pageants'], ['best', 'part', 'movie', 'comes', 'second', 'homage', 'one', 'demme', 'good', 'films'], ['master', 'disguise', 'funny'], ['prima', 'donna', 'floria', 'tosca'], ['soars', 'material', 'realm'], ['better', 'suited', 'history', 'biography', 'channel', 'arguing', 'tone', 'movie'], ['problems', 'majority', 'action', 'comedies'], ['disguise', 'spiffing', 'leftovers', 'substantial', 'fresh'], ['fun', 'adventure', 'movie', 'kids', 'ages', 'like', 'adventure'], ['wendigo', 'wants', 'monster', 'movie', 'arthouse', 'crowd', 'falls', 'trap', 'pretention', 'almost', 'every', 'time']]\n"
     ]
    }
   ],
   "source": [
    "# print sample text\n",
    "print(x_train_pre_enc[:20])"
   ]
  },
  {
   "cell_type": "code",
   "execution_count": 248,
   "metadata": {
    "collapsed": false
   },
   "outputs": [],
   "source": [
    "# create word to indices and indices to word dictionaries\n",
    "\n",
    "index2word = dict(enumerate(vocab))\n",
    "word2index = {y:x for x,y in index2word.items()}"
   ]
  },
  {
   "cell_type": "code",
   "execution_count": 249,
   "metadata": {
    "collapsed": false
   },
   "outputs": [],
   "source": [
    "x_train_post_enc = []\n",
    "\n",
    "# convert words to indices\n",
    "for sentence in x_train_pre_enc:\n",
    "    sentence = [word2index[word] for word in sentence] \n",
    "    x_train_post_enc.append(sentence)"
   ]
  },
  {
   "cell_type": "code",
   "execution_count": 250,
   "metadata": {
    "collapsed": true
   },
   "outputs": [],
   "source": [
    "x_values = []\n",
    "\n",
    "# pad sequences to maxlen to make all the same length\n",
    "x_values = sequence.pad_sequences(x_train_post_enc, maxlen = maxlen, padding=\"post\")"
   ]
  },
  {
   "cell_type": "code",
   "execution_count": 251,
   "metadata": {
    "collapsed": false
   },
   "outputs": [
    {
     "name": "stdout",
     "output_type": "stream",
     "text": [
      "(45037, 28)\n",
      "[[  0   1   2   0   0   0   0   0   0   0   0   0   0   0   0   0   0   0\n",
      "    0   0   0   0   0   0   0   0   0   0]\n",
      " [  3   4   5   6   7   8   0   0   0   0   0   0   0   0   0   0   0   0\n",
      "    0   0   0   0   0   0   0   0   0   0]\n",
      " [  9  10   9  11   0   0   0   0   0   0   0   0   0   0   0   0   0   0\n",
      "    0   0   0   0   0   0   0   0   0   0]\n",
      " [ 12  13  14  15  16  17  18   0   0   0   0   0   0   0   0   0   0   0\n",
      "    0   0   0   0   0   0   0   0   0   0]\n",
      " [ 19  20  21  22  23   0   0   0   0   0   0   0   0   0   0   0   0   0\n",
      "    0   0   0   0   0   0   0   0   0   0]\n",
      " [ 24  25  26  27  28  29  30  20  31  32  33  34  35  36  37  38  39  40\n",
      "   41   0   0   0   0   0   0   0   0   0]\n",
      " [ 42  43  44  45  46  47  48  49  50  51  52   0   0   0   0   0   0   0\n",
      "    0   0   0   0   0   0   0   0   0   0]\n",
      " [ 53  54  55  56  57   0   0   0   0   0   0   0   0   0   0   0   0   0\n",
      "    0   0   0   0   0   0   0   0   0   0]\n",
      " [ 58  59  60   0   0   0   0   0   0   0   0   0   0   0   0   0   0   0\n",
      "    0   0   0   0   0   0   0   0   0   0]\n",
      " [ 20  61  62  63  64  65   0   0   0   0   0   0   0   0   0   0   0   0\n",
      "    0   0   0   0   0   0   0   0   0   0]\n",
      " [ 66  67  68  69   0   0   0   0   0   0   0   0   0   0   0   0   0   0\n",
      "    0   0   0   0   0   0   0   0   0   0]\n",
      " [ 70  71  20  72  73  74   9  75  76  77   0   0   0   0   0   0   0   0\n",
      "    0   0   0   0   0   0   0   0   0   0]\n",
      " [ 78  79  80   0   0   0   0   0   0   0   0   0   0   0   0   0   0   0\n",
      "    0   0   0   0   0   0   0   0   0   0]\n",
      " [ 81  82  83  84   0   0   0   0   0   0   0   0   0   0   0   0   0   0\n",
      "    0   0   0   0   0   0   0   0   0   0]\n",
      " [ 85  86  87   0   0   0   0   0   0   0   0   0   0   0   0   0   0   0\n",
      "    0   0   0   0   0   0   0   0   0   0]\n",
      " [ 88  89  90  91  92  93  94  20   0   0   0   0   0   0   0   0   0   0\n",
      "    0   0   0   0   0   0   0   0   0   0]\n",
      " [ 95  96  97  98   0   0   0   0   0   0   0   0   0   0   0   0   0   0\n",
      "    0   0   0   0   0   0   0   0   0   0]\n",
      " [ 79  99 100 101 102   0   0   0   0   0   0   0   0   0   0   0   0   0\n",
      "    0   0   0   0   0   0   0   0   0   0]\n",
      " [103 104  20 105 106 107 104   0   0   0   0   0   0   0   0   0   0   0\n",
      "    0   0   0   0   0   0   0   0   0   0]\n",
      " [108 109 110  20 111 112 113 114 115 116 117  23   0   0   0   0   0   0\n",
      "    0   0   0   0   0   0   0   0   0   0]]\n"
     ]
    }
   ],
   "source": [
    "# print sample values\n",
    "\n",
    "print(x_values.shape)\n",
    "print(x_values[:20])"
   ]
  },
  {
   "cell_type": "code",
   "execution_count": 252,
   "metadata": {
    "collapsed": false
   },
   "outputs": [],
   "source": [
    "# turn output values into vectors for categories\n",
    "\n",
    "y_values = np_utils.to_categorical(y_train)"
   ]
  },
  {
   "cell_type": "code",
   "execution_count": 253,
   "metadata": {
    "collapsed": true
   },
   "outputs": [],
   "source": [
    "x_train = x_values\n",
    "y_train = y_values"
   ]
  },
  {
   "cell_type": "code",
   "execution_count": 283,
   "metadata": {
    "collapsed": false
   },
   "outputs": [
    {
     "name": "stdout",
     "output_type": "stream",
     "text": [
      "_________________________________________________________________\n",
      "Layer (type)                 Output Shape              Param #   \n",
      "=================================================================\n",
      "embedding_39 (Embedding)     (None, 28, 128)           2027136   \n",
      "_________________________________________________________________\n",
      "dropout_97 (Dropout)         (None, 28, 128)           0         \n",
      "_________________________________________________________________\n",
      "lstm_97 (LSTM)               (None, 28, 128)           131584    \n",
      "_________________________________________________________________\n",
      "batch_normalization_59 (Batc (None, 28, 128)           512       \n",
      "_________________________________________________________________\n",
      "dropout_98 (Dropout)         (None, 28, 128)           0         \n",
      "_________________________________________________________________\n",
      "lstm_98 (LSTM)               (None, 128)               131584    \n",
      "_________________________________________________________________\n",
      "dense_38 (Dense)             (None, 5)                 645       \n",
      "=================================================================\n",
      "Total params: 2,291,461\n",
      "Trainable params: 2,291,205\n",
      "Non-trainable params: 256\n",
      "_________________________________________________________________\n",
      "None\n"
     ]
    }
   ],
   "source": [
    "lstm_units = 128 #256\n",
    "\n",
    "# build keras network model\n",
    "\n",
    "model = Sequential()\n",
    "model.add(Embedding(len(vocab), lstm_units, input_length=maxlen))\n",
    "model.add(Dropout(0.5))\n",
    "model.add(LSTM(lstm_units, return_sequences=True))\n",
    "model.add(BatchNormalization())\n",
    "model.add(Dropout(0.5))\n",
    "#model.add(LSTM(lstm_units, return_sequences=True))\n",
    "#model.add(BatchNormalization())\n",
    "#model.add(Dropout(0.5))\n",
    "#model.add(LSTM(lstm_units, return_sequences=True))\n",
    "#model.add(BatchNormalization())\n",
    "#model.add(Dropout(0.5))\n",
    "model.add(LSTM(lstm_units))\n",
    "model.add(Dense(5, activation='softmax'))\n",
    "\n",
    "print(model.summary())"
   ]
  },
  {
   "cell_type": "code",
   "execution_count": 284,
   "metadata": {
    "collapsed": false
   },
   "outputs": [],
   "source": [
    "# setup adam optimizer and compile model\n",
    "\n",
    "adam = Adam(lr=0.001)\n",
    "\n",
    "model.compile(loss = 'categorical_crossentropy', optimizer = adam, metrics = ['accuracy'])"
   ]
  },
  {
   "cell_type": "code",
   "execution_count": 285,
   "metadata": {
    "collapsed": false
   },
   "outputs": [
    {
     "name": "stdout",
     "output_type": "stream",
     "text": [
      "Train on 4750 samples, validate on 250 samples\n",
      "Epoch 1/20\n",
      " - 136s - loss: 1.4499 - acc: 0.3745 - val_loss: 1.5659 - val_acc: 0.2680\n",
      "Epoch 2/20\n",
      " - 112s - loss: 1.3543 - acc: 0.4225 - val_loss: 1.3840 - val_acc: 0.4280\n",
      "Epoch 3/20\n",
      " - 116s - loss: 1.1714 - acc: 0.5288 - val_loss: 1.4816 - val_acc: 0.3640\n",
      "Epoch 4/20\n",
      " - 118s - loss: 0.9594 - acc: 0.6383 - val_loss: 1.3465 - val_acc: 0.4120\n",
      "Epoch 5/20\n",
      " - 117s - loss: 0.7654 - acc: 0.7171 - val_loss: 1.4237 - val_acc: 0.4320\n",
      "Epoch 6/20\n",
      " - 133s - loss: 0.6437 - acc: 0.7737 - val_loss: 1.6466 - val_acc: 0.4400\n",
      "Epoch 7/20\n",
      " - 127s - loss: 0.5264 - acc: 0.8131 - val_loss: 1.6385 - val_acc: 0.4360\n",
      "Epoch 8/20\n",
      " - 126s - loss: 0.4467 - acc: 0.8507 - val_loss: 1.7907 - val_acc: 0.4320\n",
      "Epoch 9/20\n",
      " - 124s - loss: 0.3770 - acc: 0.8766 - val_loss: 1.8153 - val_acc: 0.4200\n",
      "Epoch 10/20\n",
      " - 125s - loss: 0.3242 - acc: 0.8920 - val_loss: 2.0675 - val_acc: 0.4120\n",
      "Epoch 11/20\n",
      " - 127s - loss: 0.2787 - acc: 0.9122 - val_loss: 2.0308 - val_acc: 0.4080\n",
      "Epoch 12/20\n",
      " - 127s - loss: 0.2606 - acc: 0.9124 - val_loss: 2.1609 - val_acc: 0.4200\n",
      "Epoch 13/20\n",
      " - 126s - loss: 0.2179 - acc: 0.9335 - val_loss: 2.1329 - val_acc: 0.4320\n",
      "Epoch 14/20\n",
      " - 124s - loss: 0.2010 - acc: 0.9341 - val_loss: 2.3204 - val_acc: 0.3960\n",
      "Epoch 15/20\n",
      " - 125s - loss: 0.1814 - acc: 0.9440 - val_loss: 2.5775 - val_acc: 0.4280\n",
      "Epoch 16/20\n",
      " - 125s - loss: 0.1733 - acc: 0.9461 - val_loss: 2.3205 - val_acc: 0.4400\n",
      "Epoch 17/20\n",
      " - 125s - loss: 0.1431 - acc: 0.9533 - val_loss: 2.6906 - val_acc: 0.4280\n",
      "Epoch 18/20\n",
      " - 126s - loss: 0.1422 - acc: 0.9535 - val_loss: 2.3606 - val_acc: 0.4400\n",
      "Epoch 19/20\n",
      " - 126s - loss: 0.1371 - acc: 0.9585 - val_loss: 2.5453 - val_acc: 0.4120\n",
      "Epoch 20/20\n",
      " - 126s - loss: 0.1221 - acc: 0.9602 - val_loss: 2.7710 - val_acc: 0.4080\n"
     ]
    }
   ],
   "source": [
    "batch_size = 16\n",
    "sample_size = 5000\n",
    "val_split_size = 0.05\n",
    "\n",
    "# fit model on data. set validation set size\n",
    "history = model.fit(np.array(x_train[:sample_size]), np.array(y_train[:sample_size]), batch_size = batch_size,  epochs = 20, validation_split = val_split_size, shuffle = True, verbose = 2)"
   ]
  },
  {
   "cell_type": "code",
   "execution_count": 286,
   "metadata": {
    "collapsed": false
   },
   "outputs": [
    {
     "data": {
      "image/png": "[encoded data removed]",
      "text/plain": [
       "<matplotlib.figure.Figure at 0x1985dde44a8>"
      ]
     },
     "metadata": {},
     "output_type": "display_data"
    }
   ],
   "source": [
    "import matplotlib.pyplot as plt\n",
    "\n",
    "# plot for accuracy from, https://machinelearningmastery.com/display-deep-learning-model-training-history-in-keras/\n",
    "plt.plot(history.history['acc'])\n",
    "plt.plot(history.history['val_acc'])\n",
    "plt.title('model accuracy')\n",
    "plt.ylabel('accuracy')\n",
    "plt.xlabel('epoch')\n",
    "plt.legend(['train', 'test'], loc='upper left')\n",
    "plt.show()\n"
   ]
  },
  {
   "cell_type": "code",
   "execution_count": 287,
   "metadata": {
    "collapsed": false
   },
   "outputs": [
    {
     "data": {
      "image/png": "[encoded data removed]",
      "text/plain": [
       "<matplotlib.figure.Figure at 0x1985df81f60>"
      ]
     },
     "metadata": {},
     "output_type": "display_data"
    }
   ],
   "source": [
    "# plot for loss from, https://machinelearningmastery.com/display-deep-learning-model-training-history-in-keras/\n",
    "plt.plot(history.history['loss'])\n",
    "plt.plot(history.history['val_loss'])\n",
    "plt.title('model loss')\n",
    "plt.ylabel('loss')\n",
    "plt.xlabel('epoch')\n",
    "plt.legend(['train', 'test'], loc='upper left')\n",
    "plt.show()"
   ]
  },
  {
   "cell_type": "code",
   "execution_count": 288,
   "metadata": {
    "collapsed": false
   },
   "outputs": [],
   "source": [
    "x_test_pre_enc = []\n",
    "\n",
    "# import test data and pre-process\n",
    "with open('./data/test.tsv', 'r') as test_data:\n",
    "    for line in csv.reader(test_data, delimiter='\\t'):\n",
    "        if row_num > 0:\n",
    "            sentence = re.sub(r'[^a-zA-Z\\s]','', line[2])\n",
    "            words = sentence.lower().split(' ')\n",
    "            words2 = [word for word in words if ((word not in stop_words) and (word not in other_text_to_remove) and (len(word) > 2))]\n",
    "            \n",
    "            if len(words2) > maxlen:\n",
    "                words2 = words2[:maxlen + 1]\n",
    "            \n",
    "            if((len(words2) > 2) and (words2 not in x_test_pre_enc)):\n",
    "                x_test_pre_enc.append(words2)\n",
    "        \n",
    "        row_num += 1\n",
    "        \n",
    "test_data.close()"
   ]
  },
  {
   "cell_type": "code",
   "execution_count": 289,
   "metadata": {
    "collapsed": false
   },
   "outputs": [],
   "source": [
    "x_test_post_enc = []\n",
    "\n",
    "# convert test data to indices\n",
    "for sentence in x_test_pre_enc:\n",
    "    sentence = [word2index[word] if word in word2index else 0 for word in sentence] \n",
    "    x_test_post_enc.append(sentence)"
   ]
  },
  {
   "cell_type": "code",
   "execution_count": 290,
   "metadata": {
    "collapsed": false
   },
   "outputs": [],
   "source": [
    "x_test = []\n",
    "\n",
    "# pad test sentences so everything the same length\n",
    "x_test = sequence.pad_sequences(x_test_post_enc, maxlen = maxlen)"
   ]
  },
  {
   "cell_type": "code",
   "execution_count": 294,
   "metadata": {
    "collapsed": false
   },
   "outputs": [
    {
     "name": "stdout",
     "output_type": "stream",
     "text": [
      "[['intermittently', 'pleasing', 'mostly', 'routine', 'effort'], ['intermittently', 'pleasing', 'mostly', 'routine'], ['kidman', 'really', 'thing', 'worth', 'watching', 'birthday', 'girl', 'film', 'stagetrained', 'jez', 'butterworth', 'mojo', 'serves', 'yet', 'another', 'example', 'sad', 'decline', 'british', 'comedies', 'postfull', 'monty', 'world'], ['really', 'thing', 'worth', 'watching', 'birthday', 'girl', 'film', 'stagetrained', 'jez', 'butterworth', 'mojo', 'serves', 'yet', 'another', 'example', 'sad', 'decline', 'british', 'comedies', 'postfull', 'monty', 'world'], ['thing', 'worth', 'watching', 'birthday', 'girl', 'film', 'stagetrained', 'jez', 'butterworth', 'mojo', 'serves', 'yet', 'another', 'example', 'sad', 'decline', 'british', 'comedies', 'postfull', 'monty', 'world'], ['worth', 'watching', 'birthday', 'girl', 'film', 'stagetrained', 'jez', 'butterworth', 'mojo', 'serves', 'yet', 'another', 'example', 'sad', 'decline', 'british', 'comedies', 'postfull', 'monty', 'world'], ['worth', 'watching', 'birthday', 'girl', 'film', 'stagetrained', 'jez', 'butterworth', 'mojo', 'serves', 'yet', 'another', 'example', 'sad', 'decline', 'british', 'comedies'], ['worth', 'watching', 'birthday', 'girl', 'film', 'stagetrained', 'jez', 'butterworth', 'mojo', 'serves'], ['watching', 'birthday', 'girl', 'film', 'stagetrained', 'jez', 'butterworth', 'mojo', 'serves'], ['watching', 'birthday', 'girl', 'film'], ['birthday', 'girl', 'film'], ['stagetrained', 'jez', 'butterworth', 'mojo', 'serves'], ['stagetrained', 'jez', 'butterworth', 'mojo'], ['stagetrained', 'jez', 'butterworth'], ['yet', 'another', 'example', 'sad', 'decline', 'british', 'comedies'], ['another', 'example', 'sad', 'decline', 'british', 'comedies'], ['sad', 'decline', 'british', 'comedies'], ['postfull', 'monty', 'world'], ['get', 'rhythm', 'movie', 'becomes', 'heady', 'experience'], ['movie', 'becomes', 'heady', 'experience'], ['becomes', 'heady', 'experience'], ['kept', 'wishing', 'watching', 'documentary', 'wartime', 'navajos', 'accomplished', 'instead', 'specious', 'hollywood', 'hooha'], ['wishing', 'watching', 'documentary', 'wartime', 'navajos', 'accomplished', 'instead', 'specious', 'hollywood', 'hooha'], ['watching', 'documentary', 'wartime', 'navajos', 'accomplished', 'instead', 'specious', 'hollywood', 'hooha'], ['watching', 'documentary', 'wartime', 'navajos'], ['documentary', 'wartime', 'navajos'], ['accomplished', 'instead', 'specious', 'hollywood', 'hooha'], ['instead', 'specious', 'hollywood', 'hooha'], ['specious', 'hollywood', 'hooha'], ['kinnear', 'aim', 'sympathy', 'rather', 'delivers', 'performance', 'striking', 'skill', 'depth'], ['aim', 'sympathy', 'rather', 'delivers', 'performance', 'striking', 'skill', 'depth'], ['rather', 'delivers', 'performance', 'striking', 'skill', 'depth'], ['delivers', 'performance', 'striking', 'skill', 'depth'], ['performance', 'striking', 'skill', 'depth'], ['striking', 'skill', 'depth'], ['ends', 'well', 'sort', 'frenzied', 'comic', 'moments', 'never', 'click'], ['ends', 'well', 'sort'], ['frenzied', 'comic', 'moments', 'never', 'click'], ['frenzied', 'comic', 'moments'], ['hoot', 'half', 'great', 'way', 'american', 'people', 'see', 'candidate', 'like', 'giving', 'cent', 'stump', 'speech'], ['hoot', 'half', 'great', 'way', 'american', 'people'], ['great', 'way', 'american', 'people'], ['see', 'candidate', 'like', 'giving', 'cent', 'stump', 'speech'], ['candidate', 'like', 'giving', 'cent', 'stump', 'speech'], ['like', 'giving', 'cent', 'stump', 'speech'], ['giving', 'cent', 'stump', 'speech'], ['cent', 'stump', 'speech'], ['weight', 'piece', 'unerring', 'professionalism', 'chilly', 'production', 'fascination', 'embedded', 'lurid', 'topic', 'prove', 'recommendation', 'enough'], ['weight', 'piece', 'unerring', 'professionalism', 'chilly', 'production', 'fascination', 'embedded', 'lurid', 'topic'], ['piece', 'unerring', 'professionalism', 'chilly', 'production', 'fascination', 'embedded', 'lurid', 'topic'], ['unerring', 'professionalism', 'chilly', 'production', 'fascination', 'embedded', 'lurid', 'topic'], ['unerring', 'professionalism', 'chilly', 'production'], ['fascination', 'embedded', 'lurid', 'topic'], ['embedded', 'lurid', 'topic'], ['prove', 'recommendation', 'enough'], ['film', 'contains', 'good', 'jokes', 'good', 'scenes', 'barely', 'moment', 'carvey', 'saturday', 'night', 'livehoned', 'mimicry', 'rises', 'level', 'embarrassment'], ['contains', 'good', 'jokes', 'good', 'scenes', 'barely', 'moment', 'carvey', 'saturday', 'night', 'livehoned', 'mimicry', 'rises', 'level', 'embarrassment'], ['good', 'jokes', 'good', 'scenes', 'barely', 'moment', 'carvey', 'saturday', 'night', 'livehoned', 'mimicry', 'rises', 'level', 'embarrassment'], ['good', 'jokes', 'good', 'scenes', 'barely', 'moment'], ['good', 'jokes', 'good', 'scenes'], ['carvey', 'saturday', 'night', 'livehoned', 'mimicry', 'rises', 'level', 'embarrassment'], ['carvey', 'saturday', 'night', 'livehoned', 'mimicry'], ['saturday', 'night', 'livehoned', 'mimicry'], ['night', 'livehoned', 'mimicry'], ['rises', 'level', 'embarrassment'], ['offbeat', 'sometimes', 'gross', 'surprisingly', 'appealing', 'animated', 'film', 'true', 'meaning', 'holidays'], ['offbeat', 'sometimes', 'gross', 'surprisingly', 'appealing', 'animated', 'film'], ['sometimes', 'gross', 'surprisingly', 'appealing', 'animated', 'film'], ['sometimes', 'gross', 'surprisingly', 'appealing'], ['true', 'meaning', 'holidays'], ['suggests', 'wideranging', 'effects', 'media', 'manipulation', 'kind', 'reporting', 'done', 'supposedly', 'liberal', 'media', 'intimate', 'ultimately', 'tragic', 'heartache', 'maverick', 'individuals', 'like', 'hatfield', 'hicks'], ['suggests', 'wideranging', 'effects', 'media', 'manipulation'], ['wideranging', 'effects', 'media', 'manipulation'], ['kind', 'reporting', 'done', 'supposedly', 'liberal', 'media', 'intimate', 'ultimately', 'tragic', 'heartache', 'maverick', 'individuals', 'like', 'hatfield', 'hicks'], ['reporting', 'done', 'supposedly', 'liberal', 'media', 'intimate', 'ultimately', 'tragic', 'heartache', 'maverick', 'individuals', 'like', 'hatfield', 'hicks'], ['done', 'supposedly', 'liberal', 'media', 'intimate', 'ultimately', 'tragic', 'heartache', 'maverick', 'individuals', 'like', 'hatfield', 'hicks'], ['done', 'supposedly', 'liberal', 'media'], ['supposedly', 'liberal', 'media'], ['intimate', 'ultimately', 'tragic', 'heartache', 'maverick', 'individuals', 'like', 'hatfield', 'hicks'], ['intimate', 'ultimately', 'tragic', 'heartache'], ['intimate', 'ultimately', 'tragic'], ['maverick', 'individuals', 'like', 'hatfield', 'hicks'], ['like', 'hatfield', 'hicks'], ['tweedy', 'talks', 'canning', 'stockbroker', 'repairing', 'pool', 'yearn', 'airborne', 'sets', 'nude', 'groupies', 'nod', 'liven', 'things'], ['tweedy', 'talks', 'canning', 'stockbroker', 'repairing', 'pool'], ['talks', 'canning', 'stockbroker', 'repairing', 'pool'], ['canning', 'stockbroker', 'repairing', 'pool'], ['yearn', 'airborne', 'sets', 'nude', 'groupies', 'nod', 'liven', 'things'], ['airborne', 'sets', 'nude', 'groupies', 'nod', 'liven', 'things'], ['nude', 'groupies', 'nod', 'liven', 'things'], ['nod', 'liven', 'things'], ['failed', 'connections', 'divine', 'secrets', 'yaya', 'sisterhood', 'nurturing', 'gauzy', 'dithering', 'way'], ['divine', 'secrets', 'yaya', 'sisterhood', 'nurturing', 'gauzy', 'dithering', 'way'], ['divine', 'secrets', 'yaya', 'sisterhood'], ['nurturing', 'gauzy', 'dithering', 'way'], ['gauzy', 'dithering', 'way'], ['would', 'hard', 'think', 'recent', 'movie', 'worked', 'hard', 'achieve', 'little', 'fun'], ['hard', 'think', 'recent', 'movie', 'worked', 'hard', 'achieve', 'little', 'fun'], ['think', 'recent', 'movie', 'worked', 'hard', 'achieve', 'little', 'fun'], ['recent', 'movie', 'worked', 'hard', 'achieve', 'little', 'fun'], ['worked', 'hard', 'achieve', 'little', 'fun'], ['hard', 'achieve', 'little', 'fun'], ['achieve', 'little', 'fun'], ['story', 'structure', 'wellhoned'], ['chilling', 'uncommercial', 'look', 'mind', 'jeffrey', 'dahmer', 'serial', 'killer'], ['look', 'mind', 'jeffrey', 'dahmer', 'serial', 'killer'], ['mind', 'jeffrey', 'dahmer', 'serial', 'killer'], ['jeffrey', 'dahmer', 'serial', 'killer'], ['movie', 'plain', 'old', 'monster'], ['plain', 'old', 'monster'], ['film', 'relationship', 'actual', 'tension', 'christmastree', 'flocking', 'spray', 'actual', 'snow', 'poor', 'durable', 'imitation'], ['film', 'relationship', 'actual', 'tension'], ['christmastree', 'flocking', 'spray', 'actual', 'snow', 'poor', 'durable', 'imitation'], ['christmastree', 'flocking', 'spray'], ['actual', 'snow', 'poor', 'durable', 'imitation'], ['poor', 'durable', 'imitation'], ['depressing', 'confirmation', 'everything', 'object', 'description', 'unelected', 'suspected', 'along', 'george', 'bush', 'incurious', 'uncharismatic', 'overgrown', 'frat', 'boy', 'mean', 'streak', 'mile', 'wide'], ['depressing', 'confirmation', 'everything', 'object', 'description', 'unelected', 'suspected', 'along'], ['depressing', 'confirmation', 'everything', 'object', 'description', 'unelected'], ['everything', 'object', 'description', 'unelected'], ['object', 'description', 'unelected'], ['george', 'bush', 'incurious', 'uncharismatic', 'overgrown', 'frat', 'boy', 'mean', 'streak', 'mile', 'wide'], ['incurious', 'uncharismatic', 'overgrown', 'frat', 'boy', 'mean', 'streak', 'mile', 'wide'], ['incurious', 'uncharismatic', 'overgrown', 'frat', 'boy'], ['uncharismatic', 'overgrown', 'frat', 'boy'], ['overgrown', 'frat', 'boy'], ['mean', 'streak', 'mile', 'wide'], ['mean', 'streak', 'mile'], ['know', 'music', 'appreciate', 'film', 'easygoing', 'blend', 'comedy', 'romance'], ['appreciate', 'film', 'easygoing', 'blend', 'comedy', 'romance'], ['film', 'easygoing', 'blend', 'comedy', 'romance'], ['film', 'easygoing', 'blend'], ['however', 'lacks', 'grandeur', 'epic', 'quality', 'often', 'associated', 'stevenson', 'tale', 'well', 'earlier', 'disney', 'efforts'], ['lacks', 'grandeur', 'epic', 'quality', 'often', 'associated', 'stevenson', 'tale', 'well', 'earlier', 'disney', 'efforts'], ['grandeur', 'epic', 'quality', 'often', 'associated', 'stevenson', 'tale', 'well', 'earlier', 'disney', 'efforts'], ['epic', 'quality', 'often', 'associated', 'stevenson', 'tale', 'well', 'earlier', 'disney', 'efforts'], ['often', 'associated', 'stevenson', 'tale', 'well', 'earlier', 'disney', 'efforts'], ['associated', 'stevenson', 'tale', 'well', 'earlier', 'disney', 'efforts'], ['stevenson', 'tale', 'well', 'earlier', 'disney', 'efforts'], ['stevenson', 'tale', 'well'], ['earlier', 'disney', 'efforts'], ['although', 'occasionally', 'static', 'point', 'resembling', 'stage', 'play', 'film', 'delivers', 'solid', 'mixture', 'sweetness', 'laughs'], ['although', 'occasionally', 'static', 'point', 'resembling', 'stage', 'play'], ['occasionally', 'static', 'point', 'resembling', 'stage', 'play'], ['static', 'point', 'resembling', 'stage', 'play'], ['point', 'resembling', 'stage', 'play'], ['resembling', 'stage', 'play'], ['film', 'delivers', 'solid', 'mixture', 'sweetness', 'laughs'], ['delivers', 'solid', 'mixture', 'sweetness', 'laughs'], ['delivers', 'solid', 'mixture', 'sweetness'], ['solid', 'mixture', 'sweetness'], ['occasionally', 'funny', 'overall', 'limp', 'fishoutofwater', 'story'], ['occasionally', 'funny', 'overall', 'limp', 'fishoutofwater'], ['occasionally', 'funny', 'overall', 'limp'], ['nightmare', 'date', 'halfformed', 'wit', 'done', 'great', 'disservice', 'lack', 'critical', 'distance', 'sad', 'trust', 'liberal', 'arts', 'college', 'bumper', 'sticker', 'platitudes'], ['nightmare', 'date', 'halfformed', 'wit'], ['done', 'great', 'disservice', 'lack', 'critical', 'distance', 'sad', 'trust', 'liberal', 'arts', 'college', 'bumper', 'sticker', 'platitudes'], ['done', 'great', 'disservice', 'lack', 'critical', 'distance', 'sad', 'trust'], ['done', 'great', 'disservice'], ['lack', 'critical', 'distance', 'sad', 'trust'], ['critical', 'distance', 'sad', 'trust'], ['liberal', 'arts', 'college', 'bumper', 'sticker', 'platitudes'], ['arts', 'college', 'bumper', 'sticker', 'platitudes'], ['college', 'bumper', 'sticker', 'platitudes'], ['bumper', 'sticker', 'platitudes'], ['fitfully', 'amusing', 'romp', 'nothing', 'else', 'appeal', 'fans', 'malcolm', 'middle', 'pubescent', 'star', 'frankie', 'muniz'], ['romp', 'nothing', 'else', 'appeal', 'fans', 'malcolm', 'middle', 'pubescent', 'star', 'frankie', 'muniz'], ['nothing', 'else', 'appeal', 'fans', 'malcolm', 'middle', 'pubescent', 'star', 'frankie', 'muniz'], ['appeal', 'fans', 'malcolm', 'middle', 'pubescent', 'star', 'frankie', 'muniz'], ['fans', 'malcolm', 'middle', 'pubescent', 'star', 'frankie', 'muniz'], ['malcolm', 'middle', 'pubescent', 'star', 'frankie', 'muniz'], ['pubescent', 'star', 'frankie', 'muniz'], ['spy', 'funny', 'enough', 'exciting', 'enough', 'would', 'fairly', 'simple', 'forgive', 'financial', 'extortion', 'trying', 'reap', 'moviegoing', 'public'], ['spy', 'funny', 'enough', 'exciting', 'enough', 'would', 'fairly', 'simple', 'forgive', 'financial', 'extortion'], ['spy', 'funny', 'enough', 'exciting', 'enough'], ['funny', 'enough', 'exciting', 'enough'], ['would', 'fairly', 'simple', 'forgive', 'financial', 'extortion'], ['fairly', 'simple', 'forgive', 'financial', 'extortion'], ['simple', 'forgive', 'financial', 'extortion'], ['forgive', 'financial', 'extortion'], ['trying', 'reap', 'moviegoing', 'public'], ['reap', 'moviegoing', 'public'], ['borrows', 'many', 'literary', 'cinematic', 'sources', 'future', 'world', 'feels', 'absolutely', 'deja'], ['many', 'literary', 'cinematic', 'sources', 'future', 'world', 'feels', 'absolutely', 'deja'], ['many', 'literary', 'cinematic', 'sources'], ['literary', 'cinematic', 'sources'], ['future', 'world', 'feels', 'absolutely', 'deja'], ['feels', 'absolutely', 'deja'], ['despite', 'title', 'amy', 'orgasm', 'porno', 'though', 'tedious', 'one'], ['amy', 'orgasm', 'porno', 'though', 'tedious', 'one'], ['porno', 'though', 'tedious', 'one'], ['though', 'tedious', 'one'], ['dogged', 'good', 'parents', 'vain', 'jia', 'defoliation', 'ego', 'make', 'film', 'touching', 'despite', 'doldrums'], ['dogged', 'good', 'parents', 'vain', 'jia', 'defoliation', 'ego'], ['good', 'parents', 'vain', 'jia', 'defoliation', 'ego'], ['good', 'parents', 'vain', 'jia', 'defoliation'], ['good', 'parents', 'vain', 'jia'], ['parents', 'vain', 'jia'], ['make', 'film', 'touching', 'despite', 'doldrums'], ['make', 'film', 'touching'], ['imagine', 'really', 'bad', 'community', 'theater', 'production', 'west', 'side', 'story', 'without', 'songs'], ['imagine', 'really', 'bad', 'community', 'theater', 'production', 'west', 'side', 'story'], ['really', 'bad', 'community', 'theater', 'production', 'west', 'side', 'story'], ['really', 'bad', 'community', 'theater', 'production'], ['community', 'theater', 'production'], ['west', 'side', 'story'], ['old', 'story', 'lively', 'script', 'sharp', 'acting', 'partially', 'animated', 'interludes', 'make', 'kiss', 'seem', 'minty', 'fresh'], ['lively', 'script', 'sharp', 'acting', 'partially', 'animated', 'interludes', 'make', 'kiss', 'seem', 'minty', 'fresh'], ['lively', 'script', 'sharp', 'acting', 'partially', 'animated', 'interludes'], ['lively', 'script', 'sharp', 'acting', 'partially'], ['lively', 'script', 'sharp', 'acting'], ['make', 'kiss', 'seem', 'minty', 'fresh'], ['kiss', 'seem', 'minty', 'fresh'], ['seem', 'minty', 'fresh'], ['hopelessly', 'monotonous', 'film', 'year', 'noteworthy', 'gimmick', 'filmed', 'single', 'unbroken', 'minute', 'take'], ['hopelessly', 'monotonous', 'film', 'year', 'noteworthy', 'gimmick', 'filmed', 'single', 'unbroken', 'minute'], ['hopelessly', 'monotonous', 'film'], ['year', 'noteworthy', 'gimmick', 'filmed', 'single', 'unbroken', 'minute'], ['noteworthy', 'gimmick', 'filmed', 'single', 'unbroken', 'minute'], ['gimmick', 'filmed', 'single', 'unbroken', 'minute'], ['filmed', 'single', 'unbroken', 'minute'], ['single', 'unbroken', 'minute'], ['prancing', 'way', 'tailormade', 'part', 'male', 'hooker', 'approaching', 'end', 'vitality', 'jagger', 'obviously', 'relishes', 'every', 'selfmocking', 'moment'], ['prancing', 'way', 'tailormade', 'part', 'male', 'hooker', 'approaching', 'end', 'vitality'], ['tailormade', 'part', 'male', 'hooker', 'approaching', 'end', 'vitality'], ['male', 'hooker', 'approaching', 'end', 'vitality'], ['approaching', 'end', 'vitality'], ['jagger', 'obviously', 'relishes', 'every', 'selfmocking', 'moment'], ['obviously', 'relishes', 'every', 'selfmocking', 'moment'], ['relishes', 'every', 'selfmocking', 'moment'], ['every', 'selfmocking', 'moment'], ['distant', 'even', 'sterile', 'yet', 'compulsively', 'watchable', 'look', 'sordid', 'life', 'hogan', 'heroes', 'star', 'bob', 'crane'], ['distant', 'even', 'sterile', 'yet', 'compulsively', 'watchable'], ['even', 'sterile', 'yet', 'compulsively', 'watchable'], ['even', 'sterile', 'yet', 'compulsively'], ['even', 'sterile', 'yet'], ['look', 'sordid', 'life', 'hogan', 'heroes', 'star', 'bob', 'crane'], ['sordid', 'life', 'hogan', 'heroes', 'star', 'bob', 'crane'], ['hogan', 'heroes', 'star', 'bob', 'crane'], ['heroes', 'star', 'bob', 'crane'], ['star', 'bob', 'crane'], ['creepy', 'ultimately', 'unsatisfying', 'thriller'], ['creepy', 'ultimately', 'unsatisfying'], ['care', 'much', 'story'], ['extreme', 'oops', 'oops', 'ops', 'matter', 'spell', 'still', 'mistake', 'see'], ['extreme', 'oops', 'oops'], ['ops', 'matter', 'spell', 'still', 'mistake', 'see'], ['matter', 'spell', 'still', 'mistake', 'see'], ['still', 'mistake', 'see'], ['jackson', 'accomplished', 'amazing', 'technical', 'level'], ['amazing', 'technical', 'level'], ['ever', 'entertained', 'notion', 'title', 'film', 'implies', 'sex', 'strangers', 'actually', 'shows', 'may', 'put', 'idea', 'forever'], ['ever', 'entertained', 'notion', 'title', 'film', 'implies'], ['entertained', 'notion', 'title', 'film', 'implies'], ['notion', 'title', 'film', 'implies'], ['title', 'film', 'implies'], ['sex', 'strangers', 'actually', 'shows', 'may', 'put', 'idea', 'forever'], ['actually', 'shows', 'may', 'put', 'idea', 'forever'], ['shows', 'may', 'put', 'idea', 'forever'], ['may', 'put', 'idea', 'forever'], ['put', 'idea', 'forever'], ['pleasant', 'romantic', 'comedy'], ['movie', 'tries', 'fuse', 'two', 'woods', 'winds', 'bollyholly', 'masala', 'mess'], ['tries', 'fuse', 'two', 'woods', 'winds', 'bollyholly', 'masala', 'mess'], ['tries', 'fuse', 'two', 'woods'], ['fuse', 'two', 'woods'], ['winds', 'bollyholly', 'masala', 'mess'], ['bollyholly', 'masala', 'mess'], ['though', 'particular', 'interest', 'students', 'enthusiast', 'international', 'dance', 'world', 'music', 'film', 'designed', 'make', 'viewers', 'ages', 'cultural', 'backgrounds', 'rhythmic', 'ability', 'want', 'get', 'dance'], ['though', 'particular', 'interest', 'students', 'enthusiast', 'international', 'dance', 'world', 'music', 'film', 'designed', 'make', 'viewers', 'ages'], ['particular', 'interest', 'students', 'enthusiast', 'international', 'dance', 'world', 'music', 'film', 'designed', 'make', 'viewers', 'ages'], ['particular', 'interest', 'students', 'enthusiast', 'international', 'dance', 'world', 'music'], ['particular', 'interest', 'students', 'enthusiast'], ['international', 'dance', 'world', 'music'], ['dance', 'world', 'music'], ['film', 'designed', 'make', 'viewers', 'ages'], ['designed', 'make', 'viewers', 'ages'], ['make', 'viewers', 'ages'], ['cultural', 'backgrounds', 'rhythmic', 'ability', 'want', 'get', 'dance'], ['cultural', 'backgrounds', 'rhythmic', 'ability'], ['want', 'get', 'dance'], ['though', 'minutes', 'long', 'film', 'packed', 'information', 'impressions'], ['though', 'minutes', 'long'], ['film', 'packed', 'information', 'impressions'], ['packed', 'information', 'impressions'], ['much', 'bad', 'bland'], ['disturbing', 'great', 'white', 'hope', 'undertone', 'side', 'heaven', 'subtly', 'undermines', 'message', 'christian', 'love', 'compassion'], ['disturbing', 'great', 'white', 'hope', 'undertone'], ['great', 'white', 'hope', 'undertone'], ['great', 'white', 'hope'], ['side', 'heaven', 'subtly', 'undermines', 'message', 'christian', 'love', 'compassion'], ['subtly', 'undermines', 'message', 'christian', 'love', 'compassion'], ['undermines', 'message', 'christian', 'love', 'compassion'], ['message', 'christian', 'love', 'compassion'], ['christian', 'love', 'compassion'], ['watching', 'scarlet', 'diva', 'one', 'poised', 'titillation', 'raw', 'insight'], ['watching', 'scarlet', 'diva'], ['one', 'poised', 'titillation', 'raw', 'insight'], ['poised', 'titillation', 'raw', 'insight'], ['titillation', 'raw', 'insight'], ['prurient', 'playthings', 'aside', 'little', 'love', 'english', 'trifle'], ['prurient', 'playthings', 'aside'], ['little', 'love', 'english', 'trifle'], ['love', 'english', 'trifle'], ['believe', 'make', 'real', 'deal', 'leftover', 'enron', 'stock', 'double', 'value', 'week', 'friday'], ['make', 'real', 'deal', 'leftover', 'enron', 'stock', 'double', 'value', 'week', 'friday'], ['real', 'deal', 'leftover', 'enron', 'stock', 'double', 'value', 'week', 'friday'], ['real', 'deal', 'leftover', 'enron', 'stock'], ['leftover', 'enron', 'stock'], ['double', 'value', 'week', 'friday'], ['double', 'value', 'week'], ['basically', 'overlong', 'episode', 'tales', 'crypt'], ['overlong', 'episode', 'tales', 'crypt'], ['talking', 'slapstick', 'comedy', 'pretty', 'big', 'problem'], ['talking', 'slapstick', 'comedy'], ['pretty', 'big', 'problem'], ['close', 'two', 'hours', 'audience', 'forced', 'endure', 'three', 'terminally', 'depressed', 'mostly', 'inarticulate', 'hyper', 'dysfunctional', 'families', 'price', 'one'], ['close', 'two', 'hours'], ['audience', 'forced', 'endure', 'three', 'terminally', 'depressed', 'mostly', 'inarticulate', 'hyper', 'dysfunctional', 'families', 'price', 'one'], ['forced', 'endure', 'three', 'terminally', 'depressed', 'mostly', 'inarticulate', 'hyper', 'dysfunctional', 'families', 'price', 'one'], ['endure', 'three', 'terminally', 'depressed', 'mostly', 'inarticulate', 'hyper', 'dysfunctional', 'families', 'price', 'one'], ['three', 'terminally', 'depressed', 'mostly', 'inarticulate', 'hyper', 'dysfunctional', 'families', 'price', 'one'], ['three', 'terminally', 'depressed', 'mostly', 'inarticulate', 'hyper', 'dysfunctional', 'families'], ['terminally', 'depressed', 'mostly', 'inarticulate', 'hyper', 'dysfunctional', 'families'], ['terminally', 'depressed', 'mostly', 'inarticulate', 'hyper', 'dysfunctional'], ['terminally', 'depressed', 'mostly', 'inarticulate', 'hyper'], ['terminally', 'depressed', 'mostly', 'inarticulate'], ['wildly', 'funny', 'prison', 'caper'], ['wildly', 'funny', 'prison'], ['nine', 'queens', 'frighteningly', 'capable', 'debut', 'genre', 'piece', 'also', 'snapshot', 'dangerous', 'political', 'situation', 'verge', 'coming', 'head'], ['frighteningly', 'capable', 'debut', 'genre', 'piece', 'also', 'snapshot', 'dangerous', 'political', 'situation', 'verge', 'coming', 'head'], ['frighteningly', 'capable', 'debut', 'genre', 'piece', 'also'], ['frighteningly', 'capable', 'debut', 'genre', 'piece'], ['frighteningly', 'capable', 'debut'], ['snapshot', 'dangerous', 'political', 'situation', 'verge', 'coming', 'head'], ['dangerous', 'political', 'situation', 'verge', 'coming', 'head'], ['dangerous', 'political', 'situation'], ['verge', 'coming', 'head'], ['movie', 'exists', 'soccer', 'action', 'fine', 'acting'], ['exists', 'soccer', 'action', 'fine', 'acting'], ['soccer', 'action', 'fine', 'acting'], ['enough', 'justify', 'almost', 'two', 'hours'], ['justify', 'almost', 'two', 'hours'], ['kinnear', 'gives', 'tremendous', 'performance'], ['gives', 'tremendous', 'performance'], ['special', 'effects', 'many', 'scenes', 'weightlessness', 'look', 'good', 'better', 'original', 'oscarwinning', 'sound', 'james', 'horner', 'rousing', 'score', 'make', 'good', 'use', 'hefty', 'audio', 'system'], ['special', 'effects', 'many', 'scenes', 'weightlessness'], ['many', 'scenes', 'weightlessness'], ['look', 'good', 'better', 'original', 'oscarwinning', 'sound', 'james', 'horner', 'rousing', 'score', 'make', 'good', 'use', 'hefty', 'audio', 'system'], ['look', 'good', 'better', 'original'], ['good', 'better', 'original'], ['oscarwinning', 'sound', 'james', 'horner', 'rousing', 'score', 'make', 'good', 'use', 'hefty', 'audio', 'system'], ['oscarwinning', 'sound', 'james', 'horner', 'rousing', 'score'], ['james', 'horner', 'rousing', 'score'], ['make', 'good', 'use', 'hefty', 'audio', 'system'], ['good', 'use', 'hefty', 'audio', 'system'], ['hefty', 'audio', 'system'], ['george', 'clooney', 'proves', 'quite', 'talented', 'director', 'sam', 'rockwell', 'shows', 'worldclass', 'actor', 'confessions', 'dangerous', 'mind'], ['george', 'clooney', 'proves', 'quite', 'talented', 'director', 'sam', 'rockwell', 'shows'], ['proves', 'quite', 'talented', 'director', 'sam', 'rockwell', 'shows'], ['quite', 'talented', 'director', 'sam', 'rockwell', 'shows'], ['quite', 'talented', 'director'], ['sam', 'rockwell', 'shows'], ['worldclass', 'actor', 'confessions', 'dangerous', 'mind'], ['confessions', 'dangerous', 'mind'], ['overthetop', 'bit', 'ostentatious', 'movie', 'got', 'oodles', 'style', 'substance'], ['overthetop', 'bit', 'ostentatious'], ['movie', 'got', 'oodles', 'style', 'substance'], ['got', 'oodles', 'style', 'substance'], ['oodles', 'style', 'substance'], ['instead', 'shows', 'respect', 'due'], ['shows', 'respect', 'due'], ['although', 'bangs', 'cliched', 'drum', 'times', 'crowdpleaser', 'fresh', 'dialogue', 'energetic', 'music', 'goodnatured', 'spunk', 'often', 'infectious'], ['although', 'bangs', 'cliched', 'drum', 'times'], ['bangs', 'cliched', 'drum', 'times'], ['cliched', 'drum', 'times'], ['crowdpleaser', 'fresh', 'dialogue', 'energetic', 'music', 'goodnatured', 'spunk', 'often', 'infectious'], ['crowdpleaser', 'fresh', 'dialogue', 'energetic', 'music', 'goodnatured', 'spunk'], ['crowdpleaser', 'fresh', 'dialogue', 'energetic', 'music'], ['crowdpleaser', 'fresh', 'dialogue'], ['michael', 'gerbosi', 'script', 'economically', 'packed', 'telling', 'scenes'], ['michael', 'gerbosi', 'script'], ['economically', 'packed', 'telling', 'scenes'], ['packed', 'telling', 'scenes'], ['character', 'movie', 'shred', 'plausibility', 'event', 'believable', 'confrontation', 'staged', 'moment', 'false'], ['movie', 'shred', 'plausibility', 'event', 'believable', 'confrontation', 'staged', 'moment', 'false'], ['movie', 'shred', 'plausibility', 'event', 'believable', 'confrontation', 'staged'], ['movie', 'shred', 'plausibility'], ['event', 'believable', 'confrontation', 'staged'], ['believable', 'confrontation', 'staged'], ['like', 'sequels', 'takes', 'worked', 'last', 'time', 'repeats', 'adds', 'characters', 'stunts', 'stuff', 'attempt', 'camouflage', 'sameness'], ['takes', 'worked', 'last', 'time', 'repeats', 'adds', 'characters', 'stunts', 'stuff', 'attempt', 'camouflage', 'sameness'], ['worked', 'last', 'time', 'repeats', 'adds', 'characters', 'stunts', 'stuff', 'attempt', 'camouflage', 'sameness'], ['worked', 'last', 'time', 'repeats', 'adds', 'characters'], ['worked', 'last', 'time', 'repeats'], ['worked', 'last', 'time'], ['stunts', 'stuff', 'attempt', 'camouflage', 'sameness'], ['stuff', 'attempt', 'camouflage', 'sameness'], ['film', 'ideas', 'stretched', 'point', 'evaporation', 'whole', 'central', 'section', 'one', 'big', 'chase', 'seems', 'goal', 'urgency'], ['film', 'ideas', 'stretched', 'point', 'evaporation'], ['stretched', 'point', 'evaporation'], ['whole', 'central', 'section', 'one', 'big', 'chase', 'seems', 'goal', 'urgency'], ['whole', 'central', 'section'], ['one', 'big', 'chase', 'seems', 'goal', 'urgency'], ['one', 'big', 'chase'], ['seems', 'goal', 'urgency'], ['enjoy', 'hate', 'later'], ['bet', 'video', 'game', 'lot', 'fun', 'film'], ['video', 'game', 'lot', 'fun', 'film'], ['lot', 'fun', 'film'], ['plan', 'perfect', 'ending', 'sweet', 'home', 'alabama', 'hits', 'mark', 'critics', 'escaped', 'small', 'town', 'life'], ['plan', 'perfect', 'ending'], ['sweet', 'home', 'alabama', 'hits', 'mark', 'critics', 'escaped', 'small', 'town', 'life'], ['sweet', 'home', 'alabama'], ['hits', 'mark', 'critics', 'escaped', 'small', 'town', 'life'], ['critics', 'escaped', 'small', 'town', 'life'], ['escaped', 'small', 'town', 'life'], ['small', 'town', 'life'], ['best', 'film', 'year', 'far', 'benchmark', 'best', 'picture', 'contenders', 'measured'], ['best', 'film', 'year', 'far'], ['benchmark', 'best', 'picture', 'contenders', 'measured'], ['best', 'picture', 'contenders', 'measured'], ['best', 'picture', 'contenders'], ['generally', 'clockstoppers', 'fulfill', 'wildest', 'fantasies', 'different', 'kind', 'time', 'traveler', 'happily', 'killing', 'minutes'], ['clockstoppers', 'fulfill', 'wildest', 'fantasies', 'different', 'kind', 'time', 'traveler', 'happily', 'killing', 'minutes'], ['fulfill', 'wildest', 'fantasies', 'different', 'kind', 'time', 'traveler', 'happily', 'killing', 'minutes'], ['fulfill', 'wildest', 'fantasies', 'different', 'kind', 'time', 'traveler'], ['fulfill', 'wildest', 'fantasies'], ['different', 'kind', 'time', 'traveler'], ['happily', 'killing', 'minutes'], ['feels', 'like', 'community', 'theater', 'production', 'great', 'broadway', 'play', 'even', 'best', 'never', 'hold', 'candle', 'original'], ['feels', 'like', 'community', 'theater', 'production', 'great', 'broadway', 'play'], ['like', 'community', 'theater', 'production', 'great', 'broadway', 'play'], ['community', 'theater', 'production', 'great', 'broadway', 'play'], ['great', 'broadway', 'play'], ['even', 'best', 'never', 'hold', 'candle', 'original'], ['never', 'hold', 'candle', 'original'], ['hold', 'candle', 'original'], ['effectively', 'feeds', 'senses', 'chilling', 'sights', 'sounds', 'within', 'camp', 'create', 'completely', 'numbing', 'experience'], ['feeds', 'senses', 'chilling', 'sights', 'sounds', 'within', 'camp', 'create', 'completely', 'numbing', 'experience'], ['feeds', 'senses', 'chilling', 'sights'], ['sounds', 'within', 'camp', 'create', 'completely', 'numbing', 'experience'], ['within', 'camp', 'create', 'completely', 'numbing', 'experience'], ['camp', 'create', 'completely', 'numbing', 'experience'], ['create', 'completely', 'numbing', 'experience'], ['completely', 'numbing', 'experience'], ['unfortunately', 'picture', 'failed', 'capture'], ['picture', 'failed', 'capture'], ['actors', 'appealing', 'elysian', 'fields', 'idiotic', 'absurdly', 'sentimental'], ['elysian', 'fields', 'idiotic', 'absurdly', 'sentimental'], ['idiotic', 'absurdly', 'sentimental'], ['nonsensical', 'dull', 'cyberhorror', 'flick', 'grim', 'hollow', 'exercise', 'flat', 'scares', 'bad', 'acting'], ['nonsensical', 'dull', 'cyberhorror', 'flick'], ['dull', 'cyberhorror', 'flick'], ['grim', 'hollow', 'exercise', 'flat', 'scares', 'bad', 'acting'], ['grim', 'hollow', 'exercise'], ['flat', 'scares', 'bad', 'acting'], ['every', 'bit', 'bogus', 'disney', 'live', 'action', 'family', 'movies', 'real', 'plot', 'real', 'conflict', 'real', 'point'], ['every', 'bit', 'bogus', 'disney', 'live', 'action'], ['bogus', 'disney', 'live', 'action'], ['disney', 'live', 'action'], ['family', 'movies', 'real', 'plot', 'real', 'conflict', 'real', 'point'], ['real', 'plot', 'real', 'conflict', 'real', 'point'], ['real', 'conflict', 'real', 'point'], ['decide', 'wants', 'mysterythriller', 'romance', 'comedy'], ['wants', 'mysterythriller', 'romance', 'comedy'], ['mysterythriller', 'romance', 'comedy'], ['onetrick', 'pony', 'whose', 'bits', 'still', 'save', 'unoriginal', 'unfunny', 'unrecommendable'], ['onetrick', 'pony', 'whose', 'bits'], ['still', 'save', 'unoriginal', 'unfunny', 'unrecommendable'], ['save', 'unoriginal', 'unfunny', 'unrecommendable'], ['unoriginal', 'unfunny', 'unrecommendable'], ['examination', 'aquatic', 'life', 'shores', 'baja', 'california', 'peninsula', 'mexico', 'offers', 'engrossing', 'way', 'demonstrate', 'virtues', 'imax', 'format'], ['examination', 'aquatic', 'life', 'shores', 'baja', 'california', 'peninsula', 'mexico'], ['aquatic', 'life', 'shores', 'baja', 'california', 'peninsula', 'mexico'], ['shores', 'baja', 'california', 'peninsula', 'mexico'], ['baja', 'california', 'peninsula', 'mexico'], ['baja', 'california', 'peninsula'], ['offers', 'engrossing', 'way', 'demonstrate', 'virtues', 'imax', 'format'], ['engrossing', 'way', 'demonstrate', 'virtues', 'imax', 'format'], ['way', 'demonstrate', 'virtues', 'imax', 'format'], ['demonstrate', 'virtues', 'imax', 'format'], ['virtues', 'imax', 'format'], ['kwan', 'makes', 'mixand', 'match', 'metaphors', 'intriguing', 'lulling', 'torpor', 'cultivated', 'allergy', 'action'], ['makes', 'mixand', 'match', 'metaphors', 'intriguing', 'lulling', 'torpor', 'cultivated', 'allergy', 'action'], ['makes', 'mixand', 'match', 'metaphors', 'intriguing', 'lulling', 'torpor', 'cultivated', 'allergy'], ['makes', 'mixand', 'match', 'metaphors', 'intriguing'], ['mixand', 'match', 'metaphors', 'intriguing'], ['match', 'metaphors', 'intriguing'], ['lulling', 'torpor', 'cultivated', 'allergy'], ['woozy', 'roisterous', 'exhausting', 'mess', 'offbeat', 'casting', 'two', 'leads', 'turns', 'illstarred', 'might', 'expect'], ['woozy', 'roisterous', 'exhausting', 'mess', 'offbeat', 'casting', 'two', 'leads'], ['woozy', 'roisterous', 'exhausting', 'mess'], ['offbeat', 'casting', 'two', 'leads'], ['turns', 'illstarred', 'might', 'expect'], ['illstarred', 'might', 'expect'], ['morality', 'tale', 'whose', 'thoughtprovoking', 'potential', 'hampered', 'madefortv', 'look', 'rigid', 'performances', 'asinine', 'twist', 'brazenly', 'rips', 'sixth', 'sense'], ['tale', 'whose', 'thoughtprovoking', 'potential', 'hampered', 'madefortv', 'look', 'rigid', 'performances', 'asinine', 'twist', 'brazenly', 'rips', 'sixth', 'sense'], ['tale', 'whose', 'thoughtprovoking', 'potential'], ['whose', 'thoughtprovoking', 'potential'], ['hampered', 'madefortv', 'look', 'rigid', 'performances', 'asinine', 'twist', 'brazenly', 'rips', 'sixth', 'sense'], ['madefortv', 'look', 'rigid', 'performances', 'asinine', 'twist', 'brazenly', 'rips', 'sixth', 'sense'], ['madefortv', 'look', 'rigid', 'performances'], ['asinine', 'twist', 'brazenly', 'rips', 'sixth', 'sense'], ['brazenly', 'rips', 'sixth', 'sense'], ['rips', 'sixth', 'sense'], ['scotland', 'blurs', 'line', 'black', 'comedy', 'black', 'hole'], ['blurs', 'line', 'black', 'comedy', 'black', 'hole'], ['line', 'black', 'comedy', 'black', 'hole'], ['black', 'comedy', 'black', 'hole'], ['surprising', 'full', 'frontal', 'despite', 'overt', 'selfawareness', 'parts', 'movie', 'still', 'manage', 'break', 'past', 'artifice', 'thoroughly', 'engage'], ['surprising', 'full', 'frontal'], ['despite', 'overt', 'selfawareness', 'parts', 'movie', 'still', 'manage', 'break', 'past', 'artifice', 'thoroughly', 'engage'], ['despite', 'overt', 'selfawareness'], ['parts', 'movie', 'still', 'manage', 'break', 'past', 'artifice', 'thoroughly', 'engage'], ['still', 'manage', 'break', 'past', 'artifice', 'thoroughly', 'engage'], ['still', 'manage', 'break', 'past', 'artifice'], ['manage', 'break', 'past', 'artifice'], ['break', 'past', 'artifice'], ['rare', 'beautiful', 'film'], ['film', 'enough', 'everything', 'reenactments', 'archival', 'footage', 'talkinghead', 'interviews', 'music', 'simply', 'sublime'], ['film', 'enough', 'everything', 'reenactments', 'archival', 'footage', 'talkinghead', 'interviews'], ['enough', 'everything', 'reenactments', 'archival', 'footage', 'talkinghead', 'interviews'], ['everything', 'reenactments', 'archival', 'footage', 'talkinghead', 'interviews'], ['reenactments', 'archival', 'footage', 'talkinghead', 'interviews'], ['reenactments', 'archival', 'footage'], ['music', 'simply', 'sublime'], ['hours', 'wins', 'best', 'picture', 'might'], ['hours', 'wins', 'best', 'picture'], ['wins', 'best', 'picture'], ['regard', 'guard', 'delivers'], ['bust', 'gut', 'intended', 'merely', 'blandly', 'cinematic', 'surgical', 'examination', 'makes', 'joke', 'joke'], ['bust', 'gut', 'intended'], ['merely', 'blandly', 'cinematic', 'surgical', 'examination', 'makes', 'joke', 'joke'], ['blandly', 'cinematic', 'surgical', 'examination', 'makes', 'joke', 'joke'], ['blandly', 'cinematic', 'surgical', 'examination'], ['cinematic', 'surgical', 'examination'], ['makes', 'joke', 'joke'], ['remarkably', 'accessible', 'affecting'], ['disposable', 'tissue', 'one', 'wild', 'card', 'john', 'turturro', 'simply', 'fab', 'spanish', 'butler', 'foot', 'fetish'], ['disposable', 'tissue', 'one', 'wild', 'card'], ['one', 'wild', 'card'], ['john', 'turturro', 'simply', 'fab', 'spanish', 'butler', 'foot', 'fetish'], ['simply', 'fab', 'spanish', 'butler', 'foot', 'fetish'], ['fab', 'spanish', 'butler', 'foot', 'fetish'], ['spanish', 'butler', 'foot', 'fetish'], ['movie', 'belonged', 'sorority', 'would', 'called', 'beta', 'alpha', 'delta'], ['movie', 'belonged', 'sorority'], ['would', 'called', 'beta', 'alpha', 'delta'], ['called', 'beta', 'alpha', 'delta'], ['beta', 'alpha', 'delta'], ['enjoy', 'movie', 'sharp', 'dialogue', 'delightful', 'performance', 'jolie', 'burns', 'gloss', 'sense', 'ending'], ['enjoy', 'movie', 'sharp', 'dialogue', 'delightful', 'performance', 'jolie', 'burns'], ['movie', 'sharp', 'dialogue', 'delightful', 'performance', 'jolie', 'burns'], ['movie', 'sharp', 'dialogue', 'delightful', 'performance'], ['sharp', 'dialogue', 'delightful', 'performance'], ['dialogue', 'delightful', 'performance'], ['gloss', 'sense', 'ending'], ['intelligent', 'fiction', 'learning', 'cultural', 'clash'], ['learning', 'cultural', 'clash'], ['plays', 'like', 'volatile', 'overlong', 'magazine', 'fashion', 'spread'], ['plays', 'like', 'volatile', 'overlong', 'magazine', 'fashion'], ['like', 'volatile', 'overlong', 'magazine', 'fashion'], ['volatile', 'overlong', 'magazine', 'fashion'], ['ridiculous', 'course', 'also', 'refreshing', 'disarming', 'outright', 'enjoyable', 'despite', 'ridiculousness'], ['also', 'refreshing', 'disarming', 'outright', 'enjoyable', 'despite', 'ridiculousness'], ['also', 'refreshing', 'disarming', 'outright', 'enjoyable'], ['refreshing', 'disarming', 'outright', 'enjoyable'], ['behan', 'knew', 'spin', 'tale', 'one', 'help', 'think', 'appreciate', 'attempt', 'turn', 'life', 'art'], ['behan', 'knew', 'spin', 'tale', 'one'], ['knew', 'spin', 'tale', 'one'], ['spin', 'tale', 'one'], ['help', 'think', 'appreciate', 'attempt', 'turn', 'life', 'art'], ['think', 'appreciate', 'attempt', 'turn', 'life', 'art'], ['appreciate', 'attempt', 'turn', 'life', 'art'], ['attempt', 'turn', 'life', 'art'], ['turn', 'life', 'art'], ['sort', 'movie', 'gives', 'tastelessness', 'bad', 'rap'], ['sort', 'movie', 'gives'], ['tastelessness', 'bad', 'rap'], ['moments', 'account', 'life', 'artist', 'frida', 'kahlo', 'among', 'cinema', 'finest', 'year'], ['moments', 'account', 'life', 'artist', 'frida', 'kahlo'], ['account', 'life', 'artist', 'frida', 'kahlo'], ['life', 'artist', 'frida', 'kahlo'], ['artist', 'frida', 'kahlo'], ['among', 'cinema', 'finest', 'year'], ['cinema', 'finest', 'year'], ['inhospitability', 'land', 'emphasizes', 'spare', 'precision', 'narratives', 'helps', 'give', 'atavistic', 'power', 'tales', 'handed', 'since', 'beginning', 'time'], ['emphasizes', 'spare', 'precision', 'narratives', 'helps', 'give', 'atavistic', 'power', 'tales', 'handed', 'since', 'beginning', 'time'], ['emphasizes', 'spare', 'precision', 'narratives', 'helps', 'give', 'atavistic', 'power'], ['emphasizes', 'spare', 'precision', 'narratives'], ['spare', 'precision', 'narratives'], ['helps', 'give', 'atavistic', 'power'], ['give', 'atavistic', 'power'], ['tales', 'handed', 'since', 'beginning', 'time'], ['handed', 'since', 'beginning', 'time'], ['since', 'beginning', 'time'], ['add', 'yet', 'another', 'hat', 'talented', 'head', 'clooney', 'good', 'director'], ['add', 'yet', 'another', 'hat', 'talented', 'head'], ['yet', 'another', 'hat', 'talented', 'head']]\n"
     ]
    }
   ],
   "source": [
    "# print sample test data\n",
    "\n",
    "x_sample = x_test[:600]\n",
    "print(x_test_pre_enc[:600])"
   ]
  },
  {
   "cell_type": "code",
   "execution_count": 292,
   "metadata": {
    "collapsed": false
   },
   "outputs": [],
   "source": [
    "# run prediction on test sample\n",
    "preds = model.predict(x_sample)"
   ]
  },
  {
   "cell_type": "code",
   "execution_count": 293,
   "metadata": {
    "collapsed": false
   },
   "outputs": [
    {
     "name": "stdout",
     "output_type": "stream",
     "text": [
      "[2, 2, 0, 0, 0, 0, 0, 2, 2, 2, 2, 2, 2, 2, 2, 2, 2, 2, 2, 2, 2, 2, 2, 2, 2, 2, 2, 2, 2, 4, 4, 2, 2, 2, 2, 2, 2, 2, 2, 1, 2, 2, 2, 2, 2, 2, 2, 1, 1, 1, 2, 2, 2, 2, 2, 1, 2, 2, 2, 2, 2, 2, 2, 2, 2, 4, 2, 2, 2, 2, 2, 2, 2, 2, 2, 2, 2, 2, 2, 2, 2, 2, 2, 2, 2, 2, 2, 2, 2, 2, 2, 2, 2, 2, 2, 2, 1, 1, 1, 1, 2, 2, 2, 2, 2, 2, 2, 2, 2, 2, 2, 2, 2, 2, 2, 2, 2, 2, 2, 2, 2, 2, 2, 2, 2, 2, 2, 2, 1, 2, 2, 2, 4, 4, 4, 4, 4, 2, 2, 2, 2, 4, 2, 2, 2, 2, 2, 4, 4, 2, 2, 4, 2, 2, 1, 2, 1, 1, 2, 2, 2, 2, 2, 2, 2, 4, 4, 4, 4, 2, 2, 2, 4, 4, 2, 2, 2, 2, 2, 2, 2, 2, 1, 1, 2, 2, 2, 2, 2, 2, 2, 2, 2, 2, 2, 2, 2, 2, 2, 2, 2, 2, 2, 2, 2, 2, 4, 4, 4, 2, 2, 2, 2, 2, 1, 1, 2, 2, 2, 2, 2, 2, 1, 2, 2, 2, 2, 2, 2, 2, 2, 4, 2, 2, 2, 2, 2, 2, 2, 2, 2, 2, 2, 2, 2, 2, 2, 2, 2, 2, 2, 4, 2, 2, 2, 2, 2, 2, 2, 2, 2, 2, 2, 2, 2, 2, 2, 2, 4, 2, 2, 2, 2, 2, 2, 2, 2, 2, 2, 2, 2, 2, 2, 2, 2, 2, 4, 2, 2, 2, 2, 2, 2, 2, 2, 2, 2, 2, 2, 2, 2, 2, 2, 2, 2, 2, 2, 2, 2, 2, 2, 2, 2, 2, 2, 2, 0, 2, 0, 0, 0, 0, 1, 1, 1, 1, 2, 2, 2, 4, 2, 2, 2, 2, 2, 2, 2, 2, 2, 2, 2, 2, 2, 2, 2, 4, 2, 2, 1, 2, 2, 2, 2, 2, 2, 2, 2, 0, 1, 2, 2, 2, 2, 2, 2, 2, 2, 2, 2, 2, 2, 2, 1, 2, 2, 2, 2, 2, 2, 2, 2, 2, 2, 2, 1, 1, 1, 2, 2, 2, 1, 1, 1, 2, 2, 2, 1, 2, 2, 2, 2, 2, 2, 2, 2, 2, 2, 2, 2, 2, 1, 2, 1, 2, 1, 2, 2, 2, 4, 2, 2, 2, 2, 2, 2, 2, 2, 2, 2, 2, 0, 2, 2, 2, 2, 2, 2, 2, 3, 3, 2, 2, 2, 2, 2, 2, 2, 2, 2, 2, 2, 1, 2, 2, 1, 2, 2, 2, 2, 2, 2, 2, 2, 2, 2, 2, 2, 1, 2, 2, 2, 2, 4, 2, 2, 2, 2, 2, 4, 2, 2, 2, 2, 1, 2, 2, 2, 2, 2, 2, 0, 1, 2, 2, 2, 2, 2, 2, 2, 2, 2, 2, 2, 2, 2, 2, 2, 2, 2, 2, 0, 2, 2, 2, 2, 2, 2, 2, 2, 2, 2, 2, 2, 2, 2, 2, 2, 2, 2, 2, 2, 0, 2, 4, 2, 2, 2, 2, 2, 0, 2, 2, 2, 2, 2, 2, 2, 2, 2, 2, 2, 4, 4, 4, 2, 2, 2, 2, 2, 2, 2, 2, 2, 2, 4, 2, 2, 2, 4, 2, 2, 2, 4, 4, 2, 2, 2, 2, 2, 2, 4, 2, 2, 2, 2, 2, 2, 1, 1, 1, 2, 2, 2, 2, 2, 2, 2, 2, 2, 2]\n"
     ]
    }
   ],
   "source": [
    "# use argmax to get the category\n",
    "p_a = [np.argmax(pred) for pred in preds]\n",
    "print(p_a)"
   ]
  },
  {
   "cell_type": "code",
   "execution_count": null,
   "metadata": {
    "collapsed": true
   },
   "outputs": [],
   "source": []
  }
 ],
 "metadata": {
  "kernelspec": {
   "display_name": "Python 3",
   "language": "python",
   "name": "python3"
  },
  "language_info": {
   "codemirror_mode": {
    "name": "ipython",
    "version": 3
   },
   "file_extension": ".py",
   "mimetype": "text/x-python",
   "name": "python",
   "nbconvert_exporter": "python",
   "pygments_lexer": "ipython3",
   "version": "3.5.2"
  }
 },
 "nbformat": 4,
 "nbformat_minor": 2
}
